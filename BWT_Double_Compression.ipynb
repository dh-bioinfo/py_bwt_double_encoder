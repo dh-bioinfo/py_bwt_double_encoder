{
 "cells": [
  {
   "cell_type": "code",
   "execution_count": 122,
   "id": "0c59f737-db70-4909-83ab-f4aa86846601",
   "metadata": {},
   "outputs": [
    {
     "name": "stdin",
     "output_type": "stream",
     "text": [
      "Enter Sequence: ATATGTATACAT\n"
     ]
    },
    {
     "name": "stdout",
     "output_type": "stream",
     "text": [
      "['ACATATATGTAT', 'ATACATATATGT', 'ATATATGTATAC', 'ATATGTATACAT', 'ATGTATACATAT', 'CATATATGTATA', 'GTATACATATAT', 'TACATATATGTA', 'TATACATATATG', 'TATATGTATACA', 'TATGTATACATA', 'TGTATACATATA']\n",
      "T\n",
      "T\n",
      "C\n",
      "T\n",
      "T\n",
      "A\n",
      "T\n",
      "A\n",
      "G\n",
      "A\n",
      "A\n",
      "A\n"
     ]
    }
   ],
   "source": [
    "input_bwt = input(\"Enter Sequence:\")\n",
    "words = list(input_bwt)\n",
    "bwt = []\n",
    "\n",
    "for i in range(len(words)):\n",
    "    word = input_bwt[-1] + input_bwt[:-1]\n",
    "    new = ''.join(word)\n",
    "    input_bwt = new\n",
    "    bwt.append(new)\n",
    "    i += 1\n",
    "\n",
    "sort = sorted(bwt)\n",
    "print(sort)\n",
    "\n",
    "output = []\n",
    "for i in range(len(words)):\n",
    "    element = sort[i]\n",
    "    last = element[-1]\n",
    "    i = i + 1\n",
    "    output.append(last)\n",
    "    print(last)\n",
    "output=(\"\".join(output))"
   ]
  },
  {
   "cell_type": "code",
   "execution_count": 123,
   "id": "124dd09d-28e6-4c5e-b617-18abee95b6d0",
   "metadata": {},
   "outputs": [
    {
     "name": "stdout",
     "output_type": "stream",
     "text": [
      "ATATGTATACAT\n",
      "TTCTTATAGAAA\n"
     ]
    }
   ],
   "source": [
    "print(input_bwt)\n",
    "print(output)"
   ]
  },
  {
   "cell_type": "code",
   "execution_count": 124,
   "id": "ce90989b-906f-44e3-837b-bcd9052c2678",
   "metadata": {
    "tags": []
   },
   "outputs": [],
   "source": [
    "def encode_message(message):\n",
    "    encoded_string = \"\"\n",
    "    i = 0\n",
    "    while (i <= len(message)-1):\n",
    "        count = 1\n",
    "        ch = message[i]\n",
    "        j = i\n",
    "        while (j < len(message)-1): \n",
    "        #if the character at the current index is the same as the character at the next index. \n",
    "        #If the characters are the same, the count is incremented to 1\n",
    "            if (message[j] == message[j + 1]): \n",
    "                count = count + 1\n",
    "                j = j + 1\n",
    "            else: \n",
    "                break\n",
    "        #the count and the character is concatenated to the encoded string\n",
    "        encoded_string = encoded_string + str(count) + ch\n",
    "        i = j + 1\n",
    "    return encoded_string\n"
   ]
  },
  {
   "cell_type": "code",
   "execution_count": 125,
   "id": "0a7a75dc-e79a-4560-8d18-0d524c88db09",
   "metadata": {},
   "outputs": [],
   "source": [
    "# the original string\n",
    "our_message = output\n",
    "# pass in the original string\n",
    "encoded_message=encode_message(our_message)"
   ]
  },
  {
   "cell_type": "code",
   "execution_count": 126,
   "id": "3b0e5241-5207-4996-8e88-7a6edbe2207b",
   "metadata": {},
   "outputs": [],
   "source": [
    "def display1():\n",
    "    print(\"Original string: [\" + our_message + \"]\")\n",
    "    print(\"Encoded string: [\" + encoded_message +\"]\")"
   ]
  },
  {
   "cell_type": "code",
   "execution_count": 127,
   "id": "35239955-2e5c-44fc-8c43-dd1b5939d9a5",
   "metadata": {},
   "outputs": [
    {
     "name": "stdout",
     "output_type": "stream",
     "text": [
      "Original string: [TTCTTATAGAAA]\n",
      "Encoded string: [2T1C2T1A1T1A1G3A]\n"
     ]
    }
   ],
   "source": [
    "display1()"
   ]
  },
  {
   "cell_type": "code",
   "execution_count": 128,
   "id": "f84dbb8b-1968-4e07-94df-c54c772d3d1f",
   "metadata": {},
   "outputs": [],
   "source": [
    "# A Huffman Tree Node\n",
    "class Node:\n",
    "    def __init__(self, prob, symbol, left=None, right=None):\n",
    "        # probability of symbol\n",
    "        self.prob = prob\n",
    "\n",
    "        # symbol \n",
    "        self.symbol = symbol\n",
    "\n",
    "        # left node\n",
    "        self.left = left\n",
    "\n",
    "        # right node\n",
    "        self.right = right\n",
    "\n",
    "        # tree direction (0/1)\n",
    "        self.code = ''\n",
    "        \n",
    "\"\"\" A helper function to print the codes of symbols by traveling Huffman Tree\"\"\"\n",
    "codes = dict()"
   ]
  },
  {
   "cell_type": "code",
   "execution_count": 129,
   "id": "f956420c-39d2-4ff1-b633-89b729c98685",
   "metadata": {},
   "outputs": [],
   "source": [
    "def Calculate_Codes(node, val=''):\n",
    "    # huffman code for current node\n",
    "    newVal = val + str(node.code)\n",
    "\n",
    "    if(node.left):\n",
    "        Calculate_Codes(node.left, newVal)\n",
    "    if(node.right):\n",
    "        Calculate_Codes(node.right, newVal)\n",
    "\n",
    "    if(not node.left and not node.right):\n",
    "        codes[node.symbol] = newVal\n",
    "         \n",
    "    return codes"
   ]
  },
  {
   "cell_type": "code",
   "execution_count": 130,
   "id": "7c415660-af21-4fa6-aa7e-ed4b2764f44b",
   "metadata": {},
   "outputs": [],
   "source": [
    "def Calculate_Probability(data):\n",
    "    symbols = dict()\n",
    "    for element in data:\n",
    "        if symbols.get(element) == None:\n",
    "            symbols[element] = 1\n",
    "        else: \n",
    "            symbols[element] += 1     \n",
    "    return symbols"
   ]
  },
  {
   "cell_type": "code",
   "execution_count": 131,
   "id": "55092d51-c0f2-486a-8be5-4211db7966e2",
   "metadata": {},
   "outputs": [],
   "source": [
    "def Output_Encoded(data, coding):\n",
    "    encoding_output = []\n",
    "    for c in data:\n",
    "      #  print(coding[c], end = '')\n",
    "        encoding_output.append(coding[c])\n",
    "        \n",
    "    string = ''.join([str(item) for item in encoding_output])    \n",
    "    return string"
   ]
  },
  {
   "cell_type": "code",
   "execution_count": 132,
   "id": "e0256b4d-6fec-4a43-97a4-f052c4be26d0",
   "metadata": {},
   "outputs": [],
   "source": [
    "def Total_Gain(data, coding):\n",
    "    before_compression = len(data) * 8 # total bit space to stor the data before compression\n",
    "    after_compression = 0\n",
    "    symbols = coding.keys()\n",
    "    for symbol in symbols:\n",
    "        count = data.count(symbol)\n",
    "        after_compression += count * len(coding[symbol]) #calculate how many bit is required for that symbol in total\n",
    "    print(\"Space usage before compression (in bits):\", before_compression)    \n",
    "    print(\"Space usage after compression (in bits):\",  after_compression)"
   ]
  },
  {
   "cell_type": "code",
   "execution_count": 133,
   "id": "c467c2e7-10c5-4dc5-bc06-12daf4b7691d",
   "metadata": {
    "tags": []
   },
   "outputs": [],
   "source": [
    "def Huffman_Encoding(data):\n",
    "    symbol_with_probs = Calculate_Probability(data)\n",
    "    symbols = symbol_with_probs.keys()\n",
    "    probabilities = symbol_with_probs.values()\n",
    "    print(\"symbols: \", symbols)\n",
    "    print(\"probabilities: \", probabilities)\n",
    "    \n",
    "    nodes = []\n",
    "    \n",
    "    # converting symbols and probabilities into huffman tree nodes\n",
    "    for symbol in symbols:\n",
    "        nodes.append(Node(symbol_with_probs.get(symbol), symbol))\n",
    "    \n",
    "    while len(nodes) > 1:\n",
    "        # sort all the nodes in ascending order based on their probability\n",
    "        nodes = sorted(nodes, key=lambda x: x.prob)\n",
    "        # for node in nodes:  \n",
    "        #      print(node.symbol, node.prob)\n",
    "    \n",
    "        # pick 2 smallest nodes\n",
    "        right = nodes[0]\n",
    "        left = nodes[1]\n",
    "    \n",
    "        left.code = 0\n",
    "        right.code = 1\n",
    "    \n",
    "        # combine the 2 smallest nodes to create new node\n",
    "        newNode = Node(left.prob+right.prob, left.symbol+right.symbol, left, right)\n",
    "    \n",
    "        nodes.remove(left)\n",
    "        nodes.remove(right)\n",
    "        nodes.append(newNode)\n",
    "            \n",
    "    huffman_encoding = Calculate_Codes(nodes[0])\n",
    "    print(\"symbols with codes\", huffman_encoding)\n",
    "    Total_Gain(data, huffman_encoding)\n",
    "    encoded_output = Output_Encoded(data,huffman_encoding)\n",
    "    return encoded_output, nodes[0]"
   ]
  },
  {
   "cell_type": "code",
   "execution_count": 134,
   "id": "31ecccb5-e661-444e-b055-2a6cc3962e86",
   "metadata": {},
   "outputs": [
    {
     "name": "stdout",
     "output_type": "stream",
     "text": [
      "initial sequence: ATATGTATACAT\n",
      "bwt,rle sequence: 2T1C2T1A1T1A1G3A\n",
      "symbols:  dict_keys(['2', 'T', '1', 'C', 'A', 'G', '3'])\n",
      "probabilities:  dict_values([2, 3, 5, 1, 3, 1, 1])\n",
      "symbols with codes {'T': '000', 'G': '0010', 'C': '0011', '1': '01', '2': '100', '3': '101', 'A': '11'}\n",
      "Space usage before compression (in bits): 128\n",
      "Space usage after compression (in bits): 42\n",
      "Encoded output 100000010011100000011101000011101001010111\n"
     ]
    }
   ],
   "source": [
    "print(\"initial sequence:\",input_bwt)\n",
    "print(\"bwt,rle sequence:\",encoded_message)\n",
    "encoding, tree = Huffman_Encoding(encoded_message)\n",
    "print(\"Encoded output\", encoding)"
   ]
  },
  {
   "cell_type": "code",
   "execution_count": 135,
   "id": "7df7cec8-9069-4633-891b-ed02c8fdf45a",
   "metadata": {
    "tags": []
   },
   "outputs": [],
   "source": [
    "def Huffman_Decoding(encoded_data, huffman_tree):\n",
    "    tree_head = huffman_tree\n",
    "    decoded_output = []\n",
    "    for x in encoded_data:\n",
    "        if x == '1':\n",
    "            huffman_tree = huffman_tree.right   \n",
    "        elif x == '0':\n",
    "            huffman_tree = huffman_tree.left\n",
    "        try:\n",
    "            if huffman_tree.left.symbol == None and huffman_tree.right.symbol == None:\n",
    "                pass\n",
    "        except AttributeError:\n",
    "            decoded_output.append(huffman_tree.symbol)\n",
    "            huffman_tree = tree_head\n",
    "        \n",
    "    string = ''.join([str(item) for item in decoded_output])\n",
    "    return string    "
   ]
  },
  {
   "cell_type": "code",
   "execution_count": 136,
   "id": "062de037-f5b5-409e-b5c0-90d45eb678ff",
   "metadata": {},
   "outputs": [
    {
     "name": "stdout",
     "output_type": "stream",
     "text": [
      "Decoded Output 2T1C2T1A1T1A1G3A\n"
     ]
    }
   ],
   "source": [
    "print(\"Decoded Output\", Huffman_Decoding(encoding,tree))"
   ]
  },
  {
   "cell_type": "code",
   "execution_count": 137,
   "id": "832c1889-ce09-4fa5-af76-eb53802d6138",
   "metadata": {},
   "outputs": [],
   "source": [
    "def decode_message(our_message):\n",
    "    decoded_message = \"\"\n",
    "    i = 0\n",
    "    j = 0\n",
    "    # splitting the encoded message into respective counts\n",
    "    while (i <= len(our_message) - 1):\n",
    "        run_count = int(our_message[i])\n",
    "        run_word = our_message[i + 1]\n",
    "        # displaying the character multiple times specified by the count\n",
    "        for j in range(run_count):\n",
    "            # concatenated with the decoded message\n",
    "            decoded_message = decoded_message+run_word\n",
    "            j = j + 1\n",
    "        i = i + 2\n",
    "    return decoded_message"
   ]
  },
  {
   "cell_type": "code",
   "execution_count": 138,
   "id": "3a2677ca-0303-4369-9e9a-980973eb0926",
   "metadata": {},
   "outputs": [],
   "source": [
    "def display2():\n",
    "    # pass in the decoded string\n",
    "    decoded_message=decode_message(encoded_message)\n",
    "    print(\"Decoded string: [\" + decoded_message +\"]\")"
   ]
  },
  {
   "cell_type": "code",
   "execution_count": 139,
   "id": "fdf35d6e-f6f0-4ffe-ae12-4127be16f04f",
   "metadata": {},
   "outputs": [
    {
     "name": "stdout",
     "output_type": "stream",
     "text": [
      "Decoded string: [TTCTTATAGAAA]\n"
     ]
    }
   ],
   "source": [
    "display2()"
   ]
  },
  {
   "cell_type": "code",
   "execution_count": null,
   "id": "531d57bd-5423-4649-a74e-c29422604db1",
   "metadata": {},
   "outputs": [],
   "source": []
  }
 ],
 "metadata": {
  "kernelspec": {
   "display_name": "Python 3.9.6 [python/3.9.6]",
   "language": "python",
   "name": "sys_python396"
  },
  "language_info": {
   "codemirror_mode": {
    "name": "ipython",
    "version": 3
   },
   "file_extension": ".py",
   "mimetype": "text/x-python",
   "name": "python",
   "nbconvert_exporter": "python",
   "pygments_lexer": "ipython3",
   "version": "3.9.6"
  }
 },
 "nbformat": 4,
 "nbformat_minor": 5
}
